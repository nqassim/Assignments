{
 "cells": [
  {
   "cell_type": "markdown",
   "id": "e7a18f92",
   "metadata": {},
   "source": [
    "# First Problem"
   ]
  },
  {
   "cell_type": "code",
   "execution_count": 1,
   "id": "5cc8f62e",
   "metadata": {},
   "outputs": [],
   "source": [
    "def norepeat(s):\n",
    "    seen = {}\n",
    "    maximum_length = 0\n",
    "    start = 0\n",
    "    for i in range(len(s)):\n",
    "        if s[i] in seen: #checking\n",
    "            start = max(start, seen[s[i]] + 1)\n",
    "        seen[s[i]] = i\n",
    "        maximum_length = max(maximum_length, i-start + 1) #comparing lengths\n",
    "    return maximum_length\n",
    "  "
   ]
  },
  {
   "cell_type": "code",
   "execution_count": 2,
   "id": "8c19e94a",
   "metadata": {},
   "outputs": [
    {
     "name": "stdout",
     "output_type": "stream",
     "text": [
      "The length of the longest non-repeating character substring is 2\n"
     ]
    }
   ],
   "source": [
    "# Driver Code\n",
    "length = norepeat(\"noor\")\n",
    "print(\"The length of the longest non-repeating character substring is\", length)"
   ]
  },
  {
   "cell_type": "markdown",
   "id": "95b7dfbe",
   "metadata": {},
   "source": [
    "# Second Problem"
   ]
  },
  {
   "cell_type": "code",
   "execution_count": 3,
   "id": "dd0b65aa",
   "metadata": {},
   "outputs": [],
   "source": [
    "from itertools import permutations\n",
    "def parentheses(n):\n",
    "    theset = set()\n",
    "    arr = \"(\" * n\n",
    "    arr += \")\" * n\n",
    "    perm = permutations(arr, n*2)\n",
    "    for i in perm:\n",
    "        if i not in theset and i[0]==\"(\" and i[-1] == \")\": #needed for duplicates and must ensure things are closed\n",
    "            theset.add(i)\n",
    "    for i in list(theset):\n",
    "        str = ''.join(i)\n",
    "        print(str)\n",
    "    "
   ]
  },
  {
   "cell_type": "code",
   "execution_count": 4,
   "id": "7d90cafd",
   "metadata": {},
   "outputs": [
    {
     "name": "stdout",
     "output_type": "stream",
     "text": [
      "(()()())\n",
      "()((()))\n",
      "()(())()\n",
      "(()))(()\n",
      "()()(())\n",
      "(()(()))\n",
      "())((())\n",
      "())()(()\n",
      "()(()())\n",
      "()())(()\n",
      "(())()()\n",
      "()))((()\n",
      "((()()))\n",
      "(((())))\n",
      "((())())\n",
      "())(()()\n",
      "(()())()\n",
      "()()()()\n",
      "(())(())\n",
      "((()))()\n"
     ]
    }
   ],
   "source": [
    "parentheses(4)"
   ]
  },
  {
   "cell_type": "markdown",
   "id": "b4a69fb7",
   "metadata": {},
   "source": [
    "# Third Problem"
   ]
  },
  {
   "cell_type": "code",
   "execution_count": null,
   "id": "dba4bd59",
   "metadata": {},
   "outputs": [],
   "source": [
    "def ispalindrome(s):\n",
    "    i = 0\n",
    "    e = -1\n",
    "    for i in range(0, len(s)/2):   \n",
    "        if(s[i]!=s[e]):\n",
    "            print(\"not a palindrome\")\n",
    "            break\n",
    "        i+=1\n",
    "        e-=1\n",
    "    print(\"This is a palindrome\")\n",
    "ispalindrome(\"Hello\") #WHY IS IT DOING NOTHING???"
   ]
  },
  {
   "cell_type": "code",
   "execution_count": null,
   "id": "8e183305",
   "metadata": {},
   "outputs": [],
   "source": []
  }
 ],
 "metadata": {
  "kernelspec": {
   "display_name": "Python 3 (ipykernel)",
   "language": "python",
   "name": "python3"
  },
  "language_info": {
   "codemirror_mode": {
    "name": "ipython",
    "version": 3
   },
   "file_extension": ".py",
   "mimetype": "text/x-python",
   "name": "python",
   "nbconvert_exporter": "python",
   "pygments_lexer": "ipython3",
   "version": "3.9.12"
  }
 },
 "nbformat": 4,
 "nbformat_minor": 5
}
