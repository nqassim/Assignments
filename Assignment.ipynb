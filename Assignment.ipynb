{
 "cells": [
  {
   "cell_type": "markdown",
   "id": "e7a18f92",
   "metadata": {},
   "source": [
    "# First Problem"
   ]
  },
  {
   "cell_type": "code",
   "execution_count": 16,
   "id": "5cc8f62e",
   "metadata": {},
   "outputs": [],
   "source": [
    "\n",
    "def norepeat(s):\n",
    "      \n",
    "    # Creating a set to store the last positions of occurrence\n",
    "    seen = {}\n",
    "    maximum_length = 0\n",
    "  \n",
    "    # starting the initial point of window to index 0\n",
    "    start = 0\n",
    "      \n",
    "    for i in range(len(s)):\n",
    "  \n",
    "        # Checking if we have already seen the element or not\n",
    "        if s[i] in seen:\n",
    " \n",
    "            # If we have seen the number, move the start pointer\n",
    "            # to position after the last occurrence\n",
    "            start = max(start, seen[s[i]] + 1)\n",
    "  \n",
    "        # Updating the last seen value of the character\n",
    "        seen[s[i]] = i\n",
    "        maximum_length = max(maximum_length, i-start + 1)\n",
    "    return maximum_length\n",
    "  "
   ]
  },
  {
   "cell_type": "code",
   "execution_count": 18,
   "id": "8c19e94a",
   "metadata": {},
   "outputs": [
    {
     "name": "stdout",
     "output_type": "stream",
     "text": [
      "The input string is noor\n",
      "The length of the longest non-repeating character substring is 2\n"
     ]
    }
   ],
   "source": [
    "# Driver Code\n",
    "string = \"noor\"\n",
    "print(\"The input string is\", string)\n",
    "length = norepeat(string)\n",
    "print(\"The length of the longest non-repeating character substring is\", length)"
   ]
  },
  {
   "cell_type": "markdown",
   "id": "95b7dfbe",
   "metadata": {},
   "source": [
    "# Second Problem"
   ]
  },
  {
   "cell_type": "code",
   "execution_count": null,
   "id": "dd0b65aa",
   "metadata": {},
   "outputs": [],
   "source": [
    "def parentheses(n):\n",
    "    lp = '('\n",
    "    rp = ')'\n",
    "    \n",
    "    "
   ]
  }
 ],
 "metadata": {
  "kernelspec": {
   "display_name": "Python 3 (ipykernel)",
   "language": "python",
   "name": "python3"
  },
  "language_info": {
   "codemirror_mode": {
    "name": "ipython",
    "version": 3
   },
   "file_extension": ".py",
   "mimetype": "text/x-python",
   "name": "python",
   "nbconvert_exporter": "python",
   "pygments_lexer": "ipython3",
   "version": "3.9.12"
  }
 },
 "nbformat": 4,
 "nbformat_minor": 5
}
